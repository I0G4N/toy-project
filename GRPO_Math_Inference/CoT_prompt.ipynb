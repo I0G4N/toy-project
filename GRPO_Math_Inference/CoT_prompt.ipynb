{
 "cells": [
  {
   "cell_type": "code",
   "execution_count": 7,
   "id": "fb502ca8",
   "metadata": {},
   "outputs": [
    {
     "name": "stdout",
     "output_type": "stream",
     "text": [
      "Downloading Model from https://www.modelscope.cn to directory: /home/logan/.cache/modelscope/hub/models/Qwen/Qwen2.5-0.5B-Instruct\n"
     ]
    },
    {
     "name": "stderr",
     "output_type": "stream",
     "text": [
      "2025-10-01 14:42:12,215 - modelscope - INFO - Target directory already exists, skipping creation.\n"
     ]
    },
    {
     "name": "stdout",
     "output_type": "stream",
     "text": [
      "Downloading Model from https://www.modelscope.cn to directory: /home/logan/.cache/modelscope/hub/models/Qwen/Qwen2.5-0.5B-Instruct\n"
     ]
    },
    {
     "name": "stderr",
     "output_type": "stream",
     "text": [
      "2025-10-01 14:42:14,390 - modelscope - INFO - Target directory already exists, skipping creation.\n"
     ]
    }
   ],
   "source": [
    "import tqdm\n",
    "from modelscope import AutoModelForCausalLM, AutoTokenizer\n",
    "model_name = 'Qwen/Qwen2.5-0.5B-Instruct'\n",
    "model = AutoModelForCausalLM.from_pretrained(\n",
    "    model_name,\n",
    "    torch_dtype=\"auto\",\n",
    "    device_map=\"auto\"\n",
    ")\n",
    "tokenizer = AutoTokenizer.from_pretrained(model_name)"
   ]
  },
  {
   "cell_type": "code",
   "execution_count": 8,
   "id": "8ece36fc",
   "metadata": {},
   "outputs": [],
   "source": [
    "from datasets import load_dataset\n",
    "data = load_dataset('gsm8k', 'main')"
   ]
  },
  {
   "cell_type": "code",
   "execution_count": 9,
   "id": "40d65d73",
   "metadata": {},
   "outputs": [],
   "source": [
    "def gen(question):\n",
    "    prompt = 'According to the following questions, please give detailed reasoning steps and answers in the following format: \\n<reasoning>\\n{reasoning}\\n</reasoning>\\n<answer>\\n{answer}\\n</answer>' + f\"\\n{question}\\n\"\n",
    "    messages = [\n",
    "        {\"role\": \"user\", \"content\": prompt}\n",
    "        ]\n",
    "    text = tokenizer.apply_chat_template(\n",
    "        messages,\n",
    "        tokenize=False,\n",
    "        add_generation_prompt=True, # add new response prompt at the end\n",
    "        )\n",
    "    model_inputs = tokenizer(\n",
    "        [text],\n",
    "        return_tensors=\"pt\",\n",
    "        ).to(model.device)\n",
    "    generated_ids = model.generate(\n",
    "        **model_inputs,\n",
    "        max_new_tokens=512,\n",
    "        )\n",
    "    \n",
    "    return tokenizer.batch_decode(\n",
    "        generated_ids,\n",
    "        skip_special_tokens=False\n",
    "        )[0]"
   ]
  },
  {
   "cell_type": "code",
   "execution_count": 13,
   "id": "cb3ac3a6",
   "metadata": {},
   "outputs": [
    {
     "data": {
      "text/plain": [
       "{'question': \"Janet’s ducks lay 16 eggs per day. She eats three for breakfast every morning and bakes muffins for her friends every day with four. She sells the remainder at the farmers' market daily for $2 per fresh duck egg. How much in dollars does she make every day at the farmers' market?\",\n",
       " 'answer': 'Janet sells 16 - 3 - 4 = <<16-3-4=9>>9 duck eggs a day.\\nShe makes 9 * 2 = $<<9*2=18>>18 every day at the farmer’s market.\\n#### 18'}"
      ]
     },
     "execution_count": 13,
     "metadata": {},
     "output_type": "execute_result"
    }
   ],
   "source": [
    "data['test'][0]"
   ]
  },
  {
   "cell_type": "code",
   "execution_count": 17,
   "id": "028c01ae",
   "metadata": {},
   "outputs": [
    {
     "name": "stdout",
     "output_type": "stream",
     "text": [
      "<|im_start|>system\n",
      "You are Qwen, created by Alibaba Cloud. You are a helpful assistant.<|im_end|>\n",
      "<|im_start|>user\n",
      "According to the following questions, please give detailed reasoning steps and answers in the following format: \n",
      "<reasoning>\n",
      "{reasoning}\n",
      "</reasoning>\n",
      "<answer>\n",
      "{answer}\n",
      "</answer>\n",
      "Janet’s ducks lay 16 eggs per day. She eats three for breakfast every morning and bakes muffins for her friends every day with four. She sells the remainder at the farmers' market daily for $2 per fresh duck egg. How much in dollars does she make every day at the farmers' market?\n",
      "<|im_end|>\n",
      "<|im_start|>assistant\n",
      "Let's break down Janet's daily earnings from selling the remaining eggs:\n",
      "\n",
      "1. Breakfast:\n",
      "   - Janet eats 3 eggs each morning.\n",
      "   - Therefore, she has 16 total breakfast eggs minus her daily egg consumption of 3.\n",
      "\n",
      "2. Baking muffins:\n",
      "   - She bakes muffins for her friends every day with 4 muffins.\n",
      "   - So, there are no additional eggs left after breakfast.\n",
      "\n",
      "3. Selling remaining eggs:\n",
      "   - After accounting for breakfast and baking muffins, we subtract any leftover eggs (if any) that would be sold.\n",
      "   - The total number of remaining eggs is 16 - 3 = 13.\n",
      "\n",
      "4. Selling price per egg:\n",
      "   - Each egg is sold for $2.\n",
      "\n",
      "5. Daily earnings calculation:\n",
      "   - Since she sells all the remaining eggs at $2 each, we multiply the number of remaining eggs by the price per egg.\n",
      "   - Earnings = 13 eggs * $2/egg\n",
      "\n",
      "Now let's perform the multiplication:\n",
      "\n",
      "Earnings = 13 * $2 = $26\n",
      "\n",
      "Therefore, Janet makes $26 every day at the farmers' market.<|im_end|>\n"
     ]
    }
   ],
   "source": [
    "a = gen(data['test'][0]['question'])\n",
    "print(a)"
   ]
  }
 ],
 "metadata": {
  "kernelspec": {
   "display_name": "llm",
   "language": "python",
   "name": "python3"
  },
  "language_info": {
   "codemirror_mode": {
    "name": "ipython",
    "version": 3
   },
   "file_extension": ".py",
   "mimetype": "text/x-python",
   "name": "python",
   "nbconvert_exporter": "python",
   "pygments_lexer": "ipython3",
   "version": "3.10.18"
  }
 },
 "nbformat": 4,
 "nbformat_minor": 5
}
